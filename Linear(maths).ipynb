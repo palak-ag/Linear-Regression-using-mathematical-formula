{
  "nbformat": 4,
  "nbformat_minor": 0,
  "metadata": {
    "colab": {
      "name": "Linear(maths)",
      "provenance": [],
      "collapsed_sections": []
    },
    "kernelspec": {
      "name": "python3",
      "display_name": "Python 3"
    }
  },
  "cells": [
    {
      "cell_type": "code",
      "metadata": {
        "id": "YUn5pbHtK4uC",
        "colab_type": "code",
        "outputId": "528274eb-c49f-4f6a-ac29-8fcdf90211a8",
        "colab": {
          "base_uri": "https://localhost:8080/",
          "height": 296
        }
      },
      "source": [
        "import numpy as np\n",
        "import matplotlib.pyplot as plt\n",
        "Training_data = [[[\"\", \"Apt size(in square feet)\"], [\"Rent (in $)\"]],\n",
        "                 [[1.0, 400], [800]],\n",
        "                 [[1.0, 450], [820]],\n",
        "                 [[1.0, 500], [980]],\n",
        "                 [[1.0, 550], [990]],\n",
        "                 [[1.0, 600], [920]],\n",
        "                 [[1.0, 650], [930]],\n",
        "                 [[1.0, 700], [1250]],\n",
        "                 [[1.0, 750], [1280]],\n",
        "                 [[1.0, 800], [1400]],\n",
        "                 [[1.0, 850], [1350]],\n",
        "                 [[1.0, 900], [1430]],\n",
        "                 [[1.0, 950], [1400]],\n",
        "                 [[1.0, 1000], [1500]],\n",
        "                 [[1.0, 1050], [1550]],\n",
        "                 [[1.0, 1100], [1600]],\n",
        "                 [[1.0, 1150], [1700]],\n",
        "                 [[1.0, 1200], [1800]],\n",
        "                 [[1.0, 1250], [1900]],\n",
        "                 [[1.0, 1300], [2100]]]\n",
        "                \n",
        "\n",
        "class LinearRegression :\n",
        "  def _init_(self, x, y):\n",
        "    self._w = self.apply_normal_equation(x, y)   #constructor\n",
        "    x.sort(0)\n",
        "    self.estimate = x * self. w    #estimate matrix where x is nultiplied by w and w = inverse of x tanspose x multiplied by x tanspose y\n",
        "\n",
        "  \n",
        "  def apply_normal_equation(self, x, y):    #implementation of normal equation   \n",
        "    xTx = x.T * x\n",
        "    if np.linalg.det(xTx) == 0: raise(Exception(\"no inverse(singular matrix)\"))   #if x tanspose x is 0, it means it is a singular matrix and has no inverse\n",
        "    else: return xTx.I * (x.T * y)   #returning value for invervese of xTx multiplies by xT*y    \n",
        "  def estimate_rent(self, entry): return [1.0, float(entry)] * self._w  #estimate the rent where apartment size will be entered by user\n",
        "\n",
        "  def get_estimate(self):     #get methods\n",
        "    return self._estimate\n",
        "\n",
        "    def get_w(self):\n",
        "      return self._w\n",
        "\n",
        "def plot_data(x, y):     #to plot the data\n",
        "  ax = plt.figure().add_subplot(1,1,1)\n",
        "  plt.xlabel(Training_data[0][0][1])\n",
        "  plt.ylabel(Training_data[0][0][1])\n",
        "  ax.scatter(x[:, 1].flatten().getA()[0], y[:, 0].flatten().getA()[0])\n",
        "  return ax\n",
        "\n",
        "def handle_command_line():\n",
        "  flag = True\n",
        "  while(flag):\n",
        "    entry = input(\"> to estimate rent, enter apt size(in square feet), or exit:\\n\")   #enter the size of the apartmemnt\n",
        "    if (entry == \"exit\"): flag = False\n",
        "    else: print(\"Estimate rent(in $) of a\", entry, \"square feet apt:\", lr.estimate_rent(entry))   #estimate the rent for the size of the apartment\n",
        "\n",
        "xArray = []\n",
        "yArray = []\n",
        "for i in range (1, len(Training_data)):\n",
        "  xArray.append([float(Training_data[i][0][0]), float(Training_data[i][0][1])])  #assigning both bias and apt size in x array\n",
        "  yArray.append(float(Training_data[i][1][0]))   #assigning rent in y array\n",
        "x = np.mat(xArray)   #turning x array into matrix\n",
        "y = np.mat(yArray).T  #turning y array into the matrix of its transpose \n",
        "ax = plot_data(x, y)     #calling function plot_data to plot the graph\n",
        "try :\n",
        "  lr = linearRegression(x,y)\n",
        "  ax.plot(x[:, 1], lr.get_estimate()) \n",
        "  print(\"Close the display window to proceed\")\n",
        "  plt.show()\n",
        "  handle_command_line()   #function calling\n",
        "except Exception as e: print(e) \n",
        "\n",
        "\n",
        "\n",
        "   \n"
      ],
      "execution_count": 0,
      "outputs": [
        {
          "output_type": "stream",
          "text": [
            "name 'linearRegression' is not defined\n"
          ],
          "name": "stdout"
        },
        {
          "output_type": "display_data",
          "data": {
            "image/png": "[encoded data removed]",
            "text/plain": [
              "<Figure size 432x288 with 1 Axes>"
            ]
          },
          "metadata": {
            "tags": []
          }
        }
      ]
    }
  ]
}